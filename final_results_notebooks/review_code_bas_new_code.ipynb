{
 "cells": [
  {
   "cell_type": "code",
   "execution_count": 16,
   "metadata": {},
   "outputs": [],
   "source": [
    "import sys\n",
    "sys.path\n",
    "sys.path.append(\"../../quMCMC\") \n",
    "import os\n",
    "import pickle\n"
   ]
  },
  {
   "cell_type": "code",
   "execution_count": 2,
   "metadata": {},
   "outputs": [],
   "source": [
    "import qumcmc\n",
    "from qumcmc.classical_mcmc_routines import *\n",
    "## import essential modules \n",
    "from qumcmc.basic_utils import *\n",
    "from qumcmc.energy_models import IsingEnergyFunction, Exact_Sampling\n",
    "\n",
    "from qumcmc.classical_mcmc_routines import classical_mcmc\n",
    "from qumcmc.quantum_mcmc_routines import quantum_enhanced_mcmc # Manuel's code\n",
    "from qumcmc.trajectory_processing import calculate_running_js_divergence, calculate_running_kl_divergence, calculate_runnning_magnetisation, get_trajectory_statistics\n",
    "from qumcmc.prob_dist import DiscreteProbabilityDistribution"
   ]
  },
  {
   "cell_type": "markdown",
   "metadata": {},
   "source": [
    "### Load the BAS dataset"
   ]
  },
  {
   "cell_type": "code",
   "execution_count": 3,
   "metadata": {},
   "outputs": [],
   "source": [
    "gridsize=3\n",
    "\n",
    "bas= bas_dataset(grid_size=gridsize)\n",
    "bas.dataset.sort()"
   ]
  },
  {
   "cell_type": "code",
   "execution_count": 4,
   "metadata": {},
   "outputs": [
    {
     "name": "stdout",
     "output_type": "stream",
     "text": [
      "=============================================\n",
      "     MODEL : ising model BAS 9X9 bars + stripes |  beta : 1.5\n",
      "=============================================\n",
      "Num Most Probable States : 12\n",
      "Entropy : 3.5849625001146053\n",
      "---------------------------------------------\n"
     ]
    },
    {
     "data": {
      "image/png": "[encoded data removed]",
      "text/plain": [
       "<Figure size 640x480 with 1 Axes>"
      ]
     },
     "metadata": {},
     "output_type": "display_data"
    }
   ],
   "source": [
    "# consider only the bars dataset and create the weight matrix for them and create the ising model\n",
    "wt= hebbing_learning(bas.bas_dict[\"bars\"]+ bas.bas_dict[\"stripes\"])## added 2 datapoints from stripes dataset into it\n",
    "n_spins=gridsize*gridsize\n",
    "shape_of_J=(n_spins,n_spins)\n",
    "J=-1*wt\n",
    "h=np.zeros(n_spins)\n",
    "model=IsingEnergyFunction(J,h,name=f'ising model BAS {n_spins}X{n_spins} bars + stripes')\n",
    "\n",
    "# model.model_summary()\n",
    "beta=1.5\n",
    "## run exact sampling over all possible configurations \n",
    "exact_sampled_model = Exact_Sampling(model, beta)\n",
    "\n",
    "## get distribution from the model\n",
    "bpd_2= DiscreteProbabilityDistribution(exact_sampled_model.boltzmann_pd)\n",
    "exact_sampled_model.sampling_summary()\n"
   ]
  },
  {
   "cell_type": "code",
   "execution_count": 5,
   "metadata": {},
   "outputs": [],
   "source": [
    "### let's check if the new code is even working as desired or not\n",
    "from qumcmc.mixers import GenericMixer, CustomMixer, CoherentMixerSum, IncoherentMixerSum"
   ]
  },
  {
   "cell_type": "markdown",
   "metadata": {},
   "source": [
    "### Now run 10 different chains for each case and save the data"
   ]
  },
  {
   "cell_type": "code",
   "execution_count": 6,
   "metadata": {},
   "outputs": [],
   "source": [
    "num_chains=10\n",
    "steps =10000 # 30000\n",
    "gamma_range=(0.4,0.6)\n",
    "\n",
    "initial_state=\"111000111\""
   ]
  },
  {
   "cell_type": "code",
   "execution_count": 25,
   "metadata": {},
   "outputs": [],
   "source": [
    "### Creating the mixers we need\n",
    "\n",
    "generic_mixer = GenericMixer.OneBodyMixer(n_spins)\n",
    "custom_mixer_stripes = CustomMixer(n_spins,[[0,3,6],[1,4,7],[2,5,8]])\n",
    "custom_mixer_bars =  CustomMixer(n_spins,[[0, 1, 2], [3, 4, 5], [6, 7, 8]] )\n",
    "\n",
    "custom_mixer_BAS = CustomMixer(n_spins,[[0, 1, 2], [3, 4, 5], [6, 7, 8], [0,3,6] , [1,4,7] , [2,5,8]] )\n",
    "\n",
    "coherent_mixer_only_bars = CoherentMixerSum([generic_mixer, custom_mixer_bars], \n",
    "                                            weights=[0.75, 0.25])\n",
    "coherent_mixer_with_BAS_info = CoherentMixerSum([generic_mixer, custom_mixer_bars, custom_mixer_stripes],\n",
    "                                                weights=[0.7,0.15,0.15])\n",
    "\n",
    "coherent_mixer_BAS = lambda p : CoherentMixerSum([generic_mixer, custom_mixer_BAS], weights= [1-p, p] )\n",
    "incoherent_mixer_BAS = lambda p : IncoherentMixerSum([generic_mixer, custom_mixer_BAS], probabilities= [1-p, p] )\n",
    "\n",
    "\n",
    "\n",
    "incoherent_mixer_only_bars = IncoherentMixerSum([generic_mixer, custom_mixer_bars],\n",
    "                                                probabilities=[0.75, 0.25])\n",
    "incoherent_mixer_with_BAS_info = IncoherentMixerSum([generic_mixer, custom_mixer_bars, \n",
    "                                                    custom_mixer_stripes],\n",
    "                                                probabilities=[0.7,0.15,0.15])"
   ]
  },
  {
   "cell_type": "markdown",
   "metadata": {},
   "source": [
    "### Trying to standarise the problem for the case of mixture of mixers"
   ]
  },
  {
   "cell_type": "markdown",
   "metadata": {},
   "source": [
    "#### coherent mixer"
   ]
  },
  {
   "cell_type": "code",
   "execution_count": 31,
   "metadata": {},
   "outputs": [
    {
     "name": "stdout",
     "output_type": "stream",
     "text": [
      "/home/rpal/Documents/QBMS/quMCMC/final_results_notebooks/BAS-coherent-mixers\n"
     ]
    }
   ],
   "source": [
    "# Get the current working directory (PWD)\n",
    "pwd = os.getcwd()\n",
    "# Define the new folder name\n",
    "new_folder_name = \"BAS-coherent-mixers\"\n",
    "# Create the full path for the new folder\n",
    "results_folder_location = os.path.join(pwd, new_folder_name)\n",
    "print(results_folder_location)\n",
    "\n",
    "\n",
    "num_chains=10\n",
    "steps=20*1000 # 30000\n",
    "initial_state=\"111000111\"\n",
    "gamma=0.5\n",
    "\n",
    "## mixer customisation ratio : mcr \n",
    "mcr_range= np.linspace(0.01, 0.50, 6)"
   ]
  },
  {
   "cell_type": "code",
   "execution_count": 32,
   "metadata": {},
   "outputs": [
    {
     "name": "stdout",
     "output_type": "stream",
     "text": [
      "mcr:  0.01\n",
      "starting with:  111000111 with energy: -48.0\n"
     ]
    },
    {
     "name": "stderr",
     "output_type": "stream",
     "text": [
      "runnning quantum MCMC steps . ..: 100%|██████████| 20000/20000 [01:14<00:00, 267.91it/s]\n"
     ]
    },
    {
     "name": "stdout",
     "output_type": "stream",
     "text": [
      "starting with:  111000111 with energy: -48.0\n"
     ]
    },
    {
     "name": "stderr",
     "output_type": "stream",
     "text": [
      "runnning quantum MCMC steps . ..: 100%|██████████| 20000/20000 [01:07<00:00, 294.33it/s]\n"
     ]
    },
    {
     "name": "stdout",
     "output_type": "stream",
     "text": [
      "starting with:  111000111 with energy: -48.0\n"
     ]
    },
    {
     "name": "stderr",
     "output_type": "stream",
     "text": [
      "runnning quantum MCMC steps . ..: 100%|██████████| 20000/20000 [01:09<00:00, 285.96it/s]\n"
     ]
    },
    {
     "name": "stdout",
     "output_type": "stream",
     "text": [
      "starting with:  111000111 with energy: -48.0\n"
     ]
    },
    {
     "name": "stderr",
     "output_type": "stream",
     "text": [
      "runnning quantum MCMC steps . ..: 100%|██████████| 20000/20000 [01:08<00:00, 292.57it/s]\n"
     ]
    },
    {
     "name": "stdout",
     "output_type": "stream",
     "text": [
      "starting with:  111000111 with energy: -48.0\n"
     ]
    },
    {
     "name": "stderr",
     "output_type": "stream",
     "text": [
      "runnning quantum MCMC steps . ..: 100%|██████████| 20000/20000 [01:12<00:00, 277.66it/s]\n"
     ]
    },
    {
     "name": "stdout",
     "output_type": "stream",
     "text": [
      "starting with:  111000111 with energy: -48.0\n"
     ]
    },
    {
     "name": "stderr",
     "output_type": "stream",
     "text": [
      "runnning quantum MCMC steps . ..: 100%|██████████| 20000/20000 [01:09<00:00, 286.46it/s]\n"
     ]
    },
    {
     "name": "stdout",
     "output_type": "stream",
     "text": [
      "starting with:  111000111 with energy: -48.0\n"
     ]
    },
    {
     "name": "stderr",
     "output_type": "stream",
     "text": [
      "runnning quantum MCMC steps . ..: 100%|██████████| 20000/20000 [01:08<00:00, 291.17it/s]\n"
     ]
    },
    {
     "name": "stdout",
     "output_type": "stream",
     "text": [
      "starting with:  111000111 with energy: -48.0\n"
     ]
    },
    {
     "name": "stderr",
     "output_type": "stream",
     "text": [
      "runnning quantum MCMC steps . ..: 100%|██████████| 20000/20000 [01:20<00:00, 247.21it/s]\n"
     ]
    },
    {
     "name": "stdout",
     "output_type": "stream",
     "text": [
      "starting with:  111000111 with energy: -48.0\n"
     ]
    },
    {
     "name": "stderr",
     "output_type": "stream",
     "text": [
      "runnning quantum MCMC steps . ..: 100%|██████████| 20000/20000 [01:09<00:00, 289.53it/s]\n"
     ]
    },
    {
     "name": "stdout",
     "output_type": "stream",
     "text": [
      "starting with:  111000111 with energy: -48.0\n"
     ]
    },
    {
     "name": "stderr",
     "output_type": "stream",
     "text": [
      "runnning quantum MCMC steps . ..: 100%|██████████| 20000/20000 [01:08<00:00, 292.29it/s]\n"
     ]
    },
    {
     "name": "stdout",
     "output_type": "stream",
     "text": [
      "mcr:  0.108\n",
      "starting with:  111000111 with energy: -48.0\n"
     ]
    },
    {
     "name": "stderr",
     "output_type": "stream",
     "text": [
      "runnning quantum MCMC steps . ..: 100%|██████████| 20000/20000 [01:06<00:00, 300.81it/s]\n"
     ]
    },
    {
     "name": "stdout",
     "output_type": "stream",
     "text": [
      "starting with:  111000111 with energy: -48.0\n"
     ]
    },
    {
     "name": "stderr",
     "output_type": "stream",
     "text": [
      "runnning quantum MCMC steps . ..: 100%|██████████| 20000/20000 [01:05<00:00, 303.30it/s]\n"
     ]
    },
    {
     "name": "stdout",
     "output_type": "stream",
     "text": [
      "starting with:  111000111 with energy: -48.0\n"
     ]
    },
    {
     "name": "stderr",
     "output_type": "stream",
     "text": [
      "runnning quantum MCMC steps . ..: 100%|██████████| 20000/20000 [01:06<00:00, 299.67it/s]\n"
     ]
    },
    {
     "name": "stdout",
     "output_type": "stream",
     "text": [
      "starting with:  111000111 with energy: -48.0\n"
     ]
    },
    {
     "name": "stderr",
     "output_type": "stream",
     "text": [
      "runnning quantum MCMC steps . ..: 100%|██████████| 20000/20000 [01:07<00:00, 295.28it/s]\n"
     ]
    },
    {
     "name": "stdout",
     "output_type": "stream",
     "text": [
      "starting with:  111000111 with energy: -48.0\n"
     ]
    },
    {
     "name": "stderr",
     "output_type": "stream",
     "text": [
      "runnning quantum MCMC steps . ..: 100%|██████████| 20000/20000 [01:06<00:00, 301.26it/s]\n"
     ]
    },
    {
     "name": "stdout",
     "output_type": "stream",
     "text": [
      "starting with:  111000111 with energy: -48.0\n"
     ]
    },
    {
     "name": "stderr",
     "output_type": "stream",
     "text": [
      "runnning quantum MCMC steps . ..: 100%|██████████| 20000/20000 [01:07<00:00, 296.41it/s]\n"
     ]
    },
    {
     "name": "stdout",
     "output_type": "stream",
     "text": [
      "starting with:  111000111 with energy: -48.0\n"
     ]
    },
    {
     "name": "stderr",
     "output_type": "stream",
     "text": [
      "runnning quantum MCMC steps . ..: 100%|██████████| 20000/20000 [01:09<00:00, 285.84it/s]\n"
     ]
    },
    {
     "name": "stdout",
     "output_type": "stream",
     "text": [
      "starting with:  111000111 with energy: -48.0\n"
     ]
    },
    {
     "name": "stderr",
     "output_type": "stream",
     "text": [
      "runnning quantum MCMC steps . ..: 100%|██████████| 20000/20000 [01:07<00:00, 298.20it/s]\n"
     ]
    },
    {
     "name": "stdout",
     "output_type": "stream",
     "text": [
      "starting with:  111000111 with energy: -48.0\n"
     ]
    },
    {
     "name": "stderr",
     "output_type": "stream",
     "text": [
      "runnning quantum MCMC steps . ..: 100%|██████████| 20000/20000 [01:13<00:00, 272.42it/s]\n"
     ]
    },
    {
     "name": "stdout",
     "output_type": "stream",
     "text": [
      "starting with:  111000111 with energy: -48.0\n"
     ]
    },
    {
     "name": "stderr",
     "output_type": "stream",
     "text": [
      "runnning quantum MCMC steps . ..: 100%|██████████| 20000/20000 [01:06<00:00, 300.28it/s]\n"
     ]
    },
    {
     "name": "stdout",
     "output_type": "stream",
     "text": [
      "mcr:  0.20600000000000002\n",
      "starting with:  111000111 with energy: -48.0\n"
     ]
    },
    {
     "name": "stderr",
     "output_type": "stream",
     "text": [
      "runnning quantum MCMC steps . ..: 100%|██████████| 20000/20000 [01:02<00:00, 319.38it/s]\n"
     ]
    },
    {
     "name": "stdout",
     "output_type": "stream",
     "text": [
      "starting with:  111000111 with energy: -48.0\n"
     ]
    },
    {
     "name": "stderr",
     "output_type": "stream",
     "text": [
      "runnning quantum MCMC steps . ..: 100%|██████████| 20000/20000 [01:09<00:00, 287.46it/s]\n"
     ]
    },
    {
     "name": "stdout",
     "output_type": "stream",
     "text": [
      "starting with:  111000111 with energy: -48.0\n"
     ]
    },
    {
     "name": "stderr",
     "output_type": "stream",
     "text": [
      "runnning quantum MCMC steps . ..: 100%|██████████| 20000/20000 [01:10<00:00, 284.65it/s]\n"
     ]
    },
    {
     "name": "stdout",
     "output_type": "stream",
     "text": [
      "starting with:  111000111 with energy: -48.0\n"
     ]
    },
    {
     "name": "stderr",
     "output_type": "stream",
     "text": [
      "runnning quantum MCMC steps . ..: 100%|██████████| 20000/20000 [01:12<00:00, 276.84it/s]\n"
     ]
    },
    {
     "name": "stdout",
     "output_type": "stream",
     "text": [
      "starting with:  111000111 with energy: -48.0\n"
     ]
    },
    {
     "name": "stderr",
     "output_type": "stream",
     "text": [
      "runnning quantum MCMC steps . ..: 100%|██████████| 20000/20000 [01:08<00:00, 291.47it/s]\n"
     ]
    },
    {
     "name": "stdout",
     "output_type": "stream",
     "text": [
      "starting with:  111000111 with energy: -48.0\n"
     ]
    },
    {
     "name": "stderr",
     "output_type": "stream",
     "text": [
      "runnning quantum MCMC steps . ..: 100%|██████████| 20000/20000 [01:11<00:00, 281.53it/s]\n"
     ]
    },
    {
     "name": "stdout",
     "output_type": "stream",
     "text": [
      "starting with:  111000111 with energy: -48.0\n"
     ]
    },
    {
     "name": "stderr",
     "output_type": "stream",
     "text": [
      "runnning quantum MCMC steps . ..: 100%|██████████| 20000/20000 [01:12<00:00, 275.09it/s]\n"
     ]
    },
    {
     "name": "stdout",
     "output_type": "stream",
     "text": [
      "starting with:  111000111 with energy: -48.0\n"
     ]
    },
    {
     "name": "stderr",
     "output_type": "stream",
     "text": [
      "runnning quantum MCMC steps . ..: 100%|██████████| 20000/20000 [01:20<00:00, 248.94it/s]\n"
     ]
    },
    {
     "name": "stdout",
     "output_type": "stream",
     "text": [
      "starting with:  111000111 with energy: -48.0\n"
     ]
    },
    {
     "name": "stderr",
     "output_type": "stream",
     "text": [
      "runnning quantum MCMC steps . ..: 100%|██████████| 20000/20000 [00:53<00:00, 373.68it/s]\n"
     ]
    },
    {
     "name": "stdout",
     "output_type": "stream",
     "text": [
      "starting with:  111000111 with energy: -48.0\n"
     ]
    },
    {
     "name": "stderr",
     "output_type": "stream",
     "text": [
      "runnning quantum MCMC steps . ..: 100%|██████████| 20000/20000 [00:51<00:00, 389.09it/s]\n"
     ]
    },
    {
     "name": "stdout",
     "output_type": "stream",
     "text": [
      "mcr:  0.30400000000000005\n",
      "starting with:  111000111 with energy: -48.0\n"
     ]
    },
    {
     "name": "stderr",
     "output_type": "stream",
     "text": [
      "runnning quantum MCMC steps . ..: 100%|██████████| 20000/20000 [00:52<00:00, 382.90it/s]\n"
     ]
    },
    {
     "name": "stdout",
     "output_type": "stream",
     "text": [
      "starting with:  111000111 with energy: -48.0\n"
     ]
    },
    {
     "name": "stderr",
     "output_type": "stream",
     "text": [
      "runnning quantum MCMC steps . ..: 100%|██████████| 20000/20000 [00:51<00:00, 388.34it/s]\n"
     ]
    },
    {
     "name": "stdout",
     "output_type": "stream",
     "text": [
      "starting with:  111000111 with energy: -48.0\n"
     ]
    },
    {
     "name": "stderr",
     "output_type": "stream",
     "text": [
      "runnning quantum MCMC steps . ..: 100%|██████████| 20000/20000 [00:52<00:00, 380.35it/s]\n"
     ]
    },
    {
     "name": "stdout",
     "output_type": "stream",
     "text": [
      "starting with:  111000111 with energy: -48.0\n"
     ]
    },
    {
     "name": "stderr",
     "output_type": "stream",
     "text": [
      "runnning quantum MCMC steps . ..: 100%|██████████| 20000/20000 [00:51<00:00, 391.25it/s]\n"
     ]
    },
    {
     "name": "stdout",
     "output_type": "stream",
     "text": [
      "starting with:  111000111 with energy: -48.0\n"
     ]
    },
    {
     "name": "stderr",
     "output_type": "stream",
     "text": [
      "runnning quantum MCMC steps . ..: 100%|██████████| 20000/20000 [00:51<00:00, 388.07it/s]\n"
     ]
    },
    {
     "name": "stdout",
     "output_type": "stream",
     "text": [
      "starting with:  111000111 with energy: -48.0\n"
     ]
    },
    {
     "name": "stderr",
     "output_type": "stream",
     "text": [
      "runnning quantum MCMC steps . ..: 100%|██████████| 20000/20000 [00:50<00:00, 392.42it/s]\n"
     ]
    },
    {
     "name": "stdout",
     "output_type": "stream",
     "text": [
      "starting with:  111000111 with energy: -48.0\n"
     ]
    },
    {
     "name": "stderr",
     "output_type": "stream",
     "text": [
      "runnning quantum MCMC steps . ..: 100%|██████████| 20000/20000 [00:51<00:00, 389.43it/s]\n"
     ]
    },
    {
     "name": "stdout",
     "output_type": "stream",
     "text": [
      "starting with:  111000111 with energy: -48.0\n"
     ]
    },
    {
     "name": "stderr",
     "output_type": "stream",
     "text": [
      "runnning quantum MCMC steps . ..: 100%|██████████| 20000/20000 [00:52<00:00, 382.88it/s]\n"
     ]
    },
    {
     "name": "stdout",
     "output_type": "stream",
     "text": [
      "starting with:  111000111 with energy: -48.0\n"
     ]
    },
    {
     "name": "stderr",
     "output_type": "stream",
     "text": [
      "runnning quantum MCMC steps . ..: 100%|██████████| 20000/20000 [00:51<00:00, 387.53it/s]\n"
     ]
    },
    {
     "name": "stdout",
     "output_type": "stream",
     "text": [
      "starting with:  111000111 with energy: -48.0\n"
     ]
    },
    {
     "name": "stderr",
     "output_type": "stream",
     "text": [
      "runnning quantum MCMC steps . ..: 100%|██████████| 20000/20000 [00:51<00:00, 391.28it/s]\n"
     ]
    },
    {
     "name": "stdout",
     "output_type": "stream",
     "text": [
      "mcr:  0.402\n",
      "starting with:  111000111 with energy: -48.0\n"
     ]
    },
    {
     "name": "stderr",
     "output_type": "stream",
     "text": [
      "runnning quantum MCMC steps . ..: 100%|██████████| 20000/20000 [00:51<00:00, 386.27it/s]\n"
     ]
    },
    {
     "name": "stdout",
     "output_type": "stream",
     "text": [
      "starting with:  111000111 with energy: -48.0\n"
     ]
    },
    {
     "name": "stderr",
     "output_type": "stream",
     "text": [
      "runnning quantum MCMC steps . ..: 100%|██████████| 20000/20000 [00:51<00:00, 389.80it/s]\n"
     ]
    },
    {
     "name": "stdout",
     "output_type": "stream",
     "text": [
      "starting with:  111000111 with energy: -48.0\n"
     ]
    },
    {
     "name": "stderr",
     "output_type": "stream",
     "text": [
      "runnning quantum MCMC steps . ..: 100%|██████████| 20000/20000 [00:51<00:00, 391.05it/s]\n"
     ]
    },
    {
     "name": "stdout",
     "output_type": "stream",
     "text": [
      "starting with:  111000111 with energy: -48.0\n"
     ]
    },
    {
     "name": "stderr",
     "output_type": "stream",
     "text": [
      "runnning quantum MCMC steps . ..: 100%|██████████| 20000/20000 [00:50<00:00, 394.57it/s]\n"
     ]
    },
    {
     "name": "stdout",
     "output_type": "stream",
     "text": [
      "starting with:  111000111 with energy: -48.0\n"
     ]
    },
    {
     "name": "stderr",
     "output_type": "stream",
     "text": [
      "runnning quantum MCMC steps . ..: 100%|██████████| 20000/20000 [00:51<00:00, 385.31it/s]\n"
     ]
    },
    {
     "name": "stdout",
     "output_type": "stream",
     "text": [
      "starting with:  111000111 with energy: -48.0\n"
     ]
    },
    {
     "name": "stderr",
     "output_type": "stream",
     "text": [
      "runnning quantum MCMC steps . ..: 100%|██████████| 20000/20000 [00:53<00:00, 376.10it/s]\n"
     ]
    },
    {
     "name": "stdout",
     "output_type": "stream",
     "text": [
      "starting with:  111000111 with energy: -48.0\n"
     ]
    },
    {
     "name": "stderr",
     "output_type": "stream",
     "text": [
      "runnning quantum MCMC steps . ..: 100%|██████████| 20000/20000 [00:52<00:00, 381.16it/s]\n"
     ]
    },
    {
     "name": "stdout",
     "output_type": "stream",
     "text": [
      "starting with:  111000111 with energy: -48.0\n"
     ]
    },
    {
     "name": "stderr",
     "output_type": "stream",
     "text": [
      "runnning quantum MCMC steps . ..: 100%|██████████| 20000/20000 [00:52<00:00, 378.50it/s]\n"
     ]
    },
    {
     "name": "stdout",
     "output_type": "stream",
     "text": [
      "starting with:  111000111 with energy: -48.0\n"
     ]
    },
    {
     "name": "stderr",
     "output_type": "stream",
     "text": [
      "runnning quantum MCMC steps . ..: 100%|██████████| 20000/20000 [00:53<00:00, 377.15it/s]\n"
     ]
    },
    {
     "name": "stdout",
     "output_type": "stream",
     "text": [
      "starting with:  111000111 with energy: -48.0\n"
     ]
    },
    {
     "name": "stderr",
     "output_type": "stream",
     "text": [
      "runnning quantum MCMC steps . ..: 100%|██████████| 20000/20000 [00:52<00:00, 378.50it/s]\n"
     ]
    },
    {
     "name": "stdout",
     "output_type": "stream",
     "text": [
      "mcr:  0.5\n",
      "starting with:  111000111 with energy: -48.0\n"
     ]
    },
    {
     "name": "stderr",
     "output_type": "stream",
     "text": [
      "runnning quantum MCMC steps . ..: 100%|██████████| 20000/20000 [00:52<00:00, 378.74it/s]\n"
     ]
    },
    {
     "name": "stdout",
     "output_type": "stream",
     "text": [
      "starting with:  111000111 with energy: -48.0\n"
     ]
    },
    {
     "name": "stderr",
     "output_type": "stream",
     "text": [
      "runnning quantum MCMC steps . ..:  46%|████▋     | 9285/20000 [00:24<00:31, 339.02it/s]"
     ]
    }
   ],
   "source": [
    "for mcr in mcr_range:\n",
    "    print('mcr: ', str(mcr))\n",
    "    bas_std=[]\n",
    "    for i in range(0, num_chains):  \n",
    "        mcmc_std = quantum_enhanced_mcmc(\n",
    "                                            n_hops=steps,\n",
    "                                            model=model,\n",
    "                                            mixer=coherent_mixer_BAS(mcr),\n",
    "                                            gamma = gamma,#(0.9,0.45), # to standardise the problem\n",
    "                                            initial_state=initial_state,\n",
    "                                            temperature=1/beta, \n",
    "                                            verbose=True\n",
    "                                        )\n",
    "        bas_std.append(mcmc_std)\n",
    "\n",
    "\n",
    "\n",
    "    ### save the list\n",
    "    save_files_at = results_folder_location + \"/mcr=\" + str(mcr) + \".pkl\" \n",
    "    with open(save_files_at, 'wb') as f:\n",
    "        pickle.dump(bas_std, f)"
   ]
  },
  {
   "cell_type": "markdown",
   "metadata": {},
   "source": [
    "#### incoherent mixer "
   ]
  },
  {
   "cell_type": "code",
   "execution_count": null,
   "metadata": {},
   "outputs": [],
   "source": [
    "# Get the current working directory (PWD)\n",
    "pwd = os.getcwd()\n",
    "# Define the new folder name\n",
    "new_folder_name = \"BAS-incoherent-mixers\"\n",
    "# Create the full path for the new folder\n",
    "results_folder_location = os.path.join(pwd, new_folder_name)\n",
    "print(results_folder_location)\n",
    "\n",
    "\n",
    "num_chains=10\n",
    "steps=20*1000 # 30000\n",
    "initial_state=\"111000111\"\n",
    "gamma=0.5\n",
    "\n",
    "## mixer customisation ratio : mcr \n",
    "mcr_range= np.linspace(0.01, 0.50, 6)"
   ]
  },
  {
   "cell_type": "code",
   "execution_count": null,
   "metadata": {},
   "outputs": [],
   "source": [
    "for mcr in mcr_range:\n",
    "    print('mcr: ', str(mcr))\n",
    "    bas_std=[]\n",
    "    for i in range(0, num_chains):  \n",
    "        mcmc_std = quantum_enhanced_mcmc(\n",
    "                                            n_hops=steps,\n",
    "                                            model=model,\n",
    "                                            mixer=incoherent_mixer_BAS(mcr),\n",
    "                                            gamma = gamma,#(0.9,0.45), # to standardise the problem\n",
    "                                            initial_state=initial_state,\n",
    "                                            temperature=1/beta, \n",
    "                                            verbose=True\n",
    "                                        )\n",
    "        bas_std.append(mcmc_std)\n",
    "\n",
    "\n",
    "\n",
    "    ### save the list\n",
    "    save_files_at = results_folder_location + \"/mcr=\" + str(mcr) + \".pkl\" \n",
    "    with open(save_files_at, 'wb') as f:\n",
    "        pickle.dump(bas_std, f)"
   ]
  },
  {
   "cell_type": "code",
   "execution_count": null,
   "metadata": {},
   "outputs": [],
   "source": []
  },
  {
   "cell_type": "markdown",
   "metadata": {},
   "source": [
    "## #"
   ]
  },
  {
   "cell_type": "markdown",
   "metadata": {},
   "source": [
    "## commit "
   ]
  },
  {
   "cell_type": "code",
   "execution_count": null,
   "metadata": {},
   "outputs": [],
   "source": []
  }
 ],
 "metadata": {
  "kernelspec": {
   "display_name": "base",
   "language": "python",
   "name": "python3"
  },
  "language_info": {
   "codemirror_mode": {
    "name": "ipython",
    "version": 3
   },
   "file_extension": ".py",
   "mimetype": "text/x-python",
   "name": "python",
   "nbconvert_exporter": "python",
   "pygments_lexer": "ipython3",
   "version": "3.10.12"
  }
 },
 "nbformat": 4,
 "nbformat_minor": 2
}
