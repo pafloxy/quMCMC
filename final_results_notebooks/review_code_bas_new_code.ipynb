{
 "cells": [
  {
   "cell_type": "code",
   "execution_count": 1,
   "metadata": {},
   "outputs": [
    {
     "data": {
      "text/plain": [
       "['d:\\\\Desktop\\\\QBM_project_cleaned\\\\quMCMC\\\\final_results_notebooks',\n",
       " 'd:\\\\anaconda_neel\\\\python38.zip',\n",
       " 'd:\\\\anaconda_neel\\\\DLLs',\n",
       " 'd:\\\\anaconda_neel\\\\lib',\n",
       " 'd:\\\\anaconda_neel',\n",
       " '',\n",
       " 'd:\\\\anaconda_neel\\\\lib\\\\site-packages',\n",
       " 'd:\\\\anaconda_neel\\\\lib\\\\site-packages\\\\locket-0.2.1-py3.8.egg',\n",
       " 'd:\\\\anaconda_neel\\\\lib\\\\site-packages\\\\win32',\n",
       " 'd:\\\\anaconda_neel\\\\lib\\\\site-packages\\\\win32\\\\lib',\n",
       " 'd:\\\\anaconda_neel\\\\lib\\\\site-packages\\\\Pythonwin',\n",
       " 'd:\\\\anaconda_neel\\\\lib\\\\site-packages\\\\IPython\\\\extensions',\n",
       " 'C:\\\\Users\\\\NEELKANTH RAWAT\\\\.ipython']"
      ]
     },
     "execution_count": 1,
     "metadata": {},
     "output_type": "execute_result"
    }
   ],
   "source": [
    "import sys\n",
    "sys.path"
   ]
  },
  {
   "cell_type": "code",
   "execution_count": 2,
   "metadata": {},
   "outputs": [],
   "source": [
    "sys.path.append(\"d:/Desktop/QBM_project_cleaned/quMCMC\") "
   ]
  },
  {
   "cell_type": "code",
   "execution_count": 3,
   "metadata": {},
   "outputs": [],
   "source": [
    "import qumcmc"
   ]
  },
  {
   "cell_type": "code",
   "execution_count": 7,
   "metadata": {},
   "outputs": [],
   "source": [
    "from qumcmc.classical_mcmc_routines import *"
   ]
  },
  {
   "cell_type": "code",
   "execution_count": 5,
   "metadata": {},
   "outputs": [],
   "source": [
    "## import essential modules \n",
    "from qumcmc.basic_utils import *\n",
    "from qumcmc.energy_models import IsingEnergyFunction, Exact_Sampling\n",
    "\n",
    "from qumcmc.classical_mcmc_routines import classical_mcmc\n",
    "from qumcmc.quantum_mcmc_routines import quantum_enhanced_mcmc # Manuel's code\n",
    "from qumcmc.trajectory_processing import calculate_running_js_divergence, calculate_running_kl_divergence, calculate_runnning_magnetisation, get_trajectory_statistics\n",
    "from qumcmc.prob_dist import DiscreteProbabilityDistribution"
   ]
  },
  {
   "cell_type": "markdown",
   "metadata": {},
   "source": [
    "### Load the BAS dataset"
   ]
  },
  {
   "cell_type": "code",
   "execution_count": 6,
   "metadata": {},
   "outputs": [],
   "source": [
    "gridsize=3\n",
    "\n",
    "bas= bas_dataset(grid_size=gridsize)\n",
    "bas.dataset.sort()"
   ]
  },
  {
   "cell_type": "code",
   "execution_count": 7,
   "metadata": {},
   "outputs": [
    {
     "name": "stdout",
     "output_type": "stream",
     "text": [
      "=============================================\n",
      "     MODEL : ising model BAS 9X9 bars + stripes |  beta : 1.5\n",
      "=============================================\n",
      "Num Most Probable States : 12\n",
      "Entropy : 3.5849625001146053\n",
      "---------------------------------------------\n"
     ]
    },
    {
     "data": {
      "image/png": "[encoded data removed]",
      "text/plain": [
       "<Figure size 432x288 with 1 Axes>"
      ]
     },
     "metadata": {
      "needs_background": "light"
     },
     "output_type": "display_data"
    }
   ],
   "source": [
    "# consider only the bars dataset and create the weight matrix for them and create the ising model\n",
    "wt= hebbing_learning(bas.bas_dict[\"bars\"]+ bas.bas_dict[\"stripes\"])## added 2 datapoints from stripes dataset into it\n",
    "n_spins=gridsize*gridsize\n",
    "shape_of_J=(n_spins,n_spins)\n",
    "J=-1*wt\n",
    "h=np.zeros(n_spins)\n",
    "model=IsingEnergyFunction(J,h,name=f'ising model BAS {n_spins}X{n_spins} bars + stripes')\n",
    "\n",
    "# model.model_summary()\n",
    "beta=1.5\n",
    "## run exact sampling over all possible configurations \n",
    "exact_sampled_model = Exact_Sampling(model, beta)\n",
    "\n",
    "## get distribution from the model\n",
    "bpd_2= DiscreteProbabilityDistribution(exact_sampled_model.boltzmann_pd)\n",
    "exact_sampled_model.sampling_summary()\n"
   ]
  },
  {
   "cell_type": "code",
   "execution_count": 8,
   "metadata": {},
   "outputs": [],
   "source": [
    "### let's check if the new code is even working as desired or not\n",
    "from qumcmc.mixers import GenericMixer, CustomMixer, CoherentMixerSum, IncoherentMixerSum"
   ]
  },
  {
   "cell_type": "markdown",
   "metadata": {},
   "source": [
    "### Now run 10 different chains for each case and save the data"
   ]
  },
  {
   "cell_type": "code",
   "execution_count": 11,
   "metadata": {},
   "outputs": [],
   "source": [
    "num_chains=10\n",
    "steps =10000 # 30000\n",
    "gamma_range=(0.4,0.6)\n",
    "\n",
    "initial_state=\"111000111\""
   ]
  },
  {
   "cell_type": "code",
   "execution_count": 12,
   "metadata": {},
   "outputs": [],
   "source": [
    "import pickle"
   ]
  },
  {
   "cell_type": "code",
   "execution_count": 14,
   "metadata": {},
   "outputs": [],
   "source": [
    "### Creating the mixers we need\n",
    "\n",
    "generic_mixer = GenericMixer.OneBodyMixer(n_spins)\n",
    "custom_mixer_stripes = CustomMixer(n_spins,[[0,3,6],[1,4,7],[2,5,8]])\n",
    "custom_mixer_bars =  CustomMixer(n_spins,[[0, 1, 2], [3, 4, 5], [6, 7, 8]] )\n",
    "\n",
    "coherent_mixer_only_bars = CoherentMixerSum([generic_mixer, custom_mixer_bars], \n",
    "                                            weights=[0.75, 0.25])\n",
    "coherent_mixer_with_BAS_info = CoherentMixerSum([generic_mixer, custom_mixer_bars, custom_mixer_stripes],\n",
    "                                                weights=[0.7,0.15,0.15])\n",
    "\n",
    "\n",
    "incoherent_mixer_only_bars = IncoherentMixerSum([generic_mixer, custom_mixer_bars],\n",
    "                                                probabilities=[0.75, 0.25])\n",
    "incoherent_mixer_with_BAS_info = IncoherentMixerSum([generic_mixer, custom_mixer_bars, \n",
    "                                                    custom_mixer_stripes],\n",
    "                                                probabilities=[0.7,0.15,0.15])"
   ]
  },
  {
   "cell_type": "markdown",
   "metadata": {},
   "source": [
    "### Trying to standarise the problem for the case of mixture of mixers"
   ]
  },
  {
   "cell_type": "code",
   "execution_count": 21,
   "metadata": {},
   "outputs": [
    {
     "data": {
      "text/plain": [
       "'d:\\\\Desktop\\\\QBM_project_cleaned\\\\quMCMC\\\\final_results_notebooks\\\\results_with_new_code'"
      ]
     },
     "execution_count": 21,
     "metadata": {},
     "output_type": "execute_result"
    }
   ],
   "source": [
    "import os\n",
    "import pickle\n",
    "\n",
    "# Get the current working directory (PWD)\n",
    "pwd = os.getcwd()\n",
    "\n",
    "# Define the new folder name\n",
    "new_folder_name = \"results_with_new_code\"\n",
    "\n",
    "# Create the full path for the new folder\n",
    "results_folder_location = os.path.join(pwd, new_folder_name)\n",
    "\n",
    "results_folder_location"
   ]
  },
  {
   "cell_type": "code",
   "execution_count": 22,
   "metadata": {},
   "outputs": [],
   "source": [
    "num_chains=1\n",
    "steps =10 # 30000\n",
    "gamma_range=(0.9,0.45)#[(0.9,0.95), (0.9,0.95), (0.4,0.6)]\n",
    "initial_state=\"111000111\""
   ]
  },
  {
   "cell_type": "code",
   "execution_count": 28,
   "metadata": {},
   "outputs": [
    {
     "ename": "TypeError",
     "evalue": "Subscripted generics cannot be used with class and instance checks",
     "output_type": "error",
     "traceback": [
      "\u001b[1;31m---------------------------------------------------------------------------\u001b[0m",
      "\u001b[1;31mTypeError\u001b[0m                                 Traceback (most recent call last)",
      "\u001b[1;32m<ipython-input-28-fea18b9f5cec>\u001b[0m in \u001b[0;36m<module>\u001b[1;34m\u001b[0m\n\u001b[0;32m      1\u001b[0m \u001b[0mbas_std\u001b[0m\u001b[1;33m=\u001b[0m\u001b[1;33m[\u001b[0m\u001b[1;33m]\u001b[0m\u001b[1;33m\u001b[0m\u001b[1;33m\u001b[0m\u001b[0m\n\u001b[0;32m      2\u001b[0m \u001b[1;32mfor\u001b[0m \u001b[0mi\u001b[0m \u001b[1;32min\u001b[0m \u001b[0mrange\u001b[0m\u001b[1;33m(\u001b[0m\u001b[1;36m0\u001b[0m\u001b[1;33m,\u001b[0m \u001b[0mnum_chains\u001b[0m\u001b[1;33m)\u001b[0m\u001b[1;33m:\u001b[0m\u001b[1;33m\u001b[0m\u001b[1;33m\u001b[0m\u001b[0m\n\u001b[1;32m----> 3\u001b[1;33m     mcmc_std = quantum_enhanced_mcmc(\n\u001b[0m\u001b[0;32m      4\u001b[0m                                         \u001b[0mn_hops\u001b[0m\u001b[1;33m=\u001b[0m\u001b[0msteps\u001b[0m\u001b[1;33m,\u001b[0m\u001b[1;33m\u001b[0m\u001b[1;33m\u001b[0m\u001b[0m\n\u001b[0;32m      5\u001b[0m                                         \u001b[0mmodel\u001b[0m\u001b[1;33m=\u001b[0m\u001b[0mmodel\u001b[0m\u001b[1;33m,\u001b[0m\u001b[1;33m\u001b[0m\u001b[1;33m\u001b[0m\u001b[0m\n",
      "\u001b[1;32md:/Desktop/QBM_project_cleaned/quMCMC\\qumcmc\\quantum_mcmc_routines.py\u001b[0m in \u001b[0;36mquantum_enhanced_mcmc\u001b[1;34m(n_hops, model, mixer, gamma, initial_state, temperature, delta_time, verbose, name)\u001b[0m\n\u001b[0;32m    181\u001b[0m     \u001b[0mnum_spins\u001b[0m \u001b[1;33m=\u001b[0m \u001b[0mmodel\u001b[0m\u001b[1;33m.\u001b[0m\u001b[0mnum_spins\u001b[0m\u001b[1;33m\u001b[0m\u001b[1;33m\u001b[0m\u001b[0m\n\u001b[0;32m    182\u001b[0m \u001b[1;33m\u001b[0m\u001b[0m\n\u001b[1;32m--> 183\u001b[1;33m     \u001b[1;32mif\u001b[0m \u001b[0misinstance\u001b[0m\u001b[1;33m(\u001b[0m\u001b[0mgamma\u001b[0m\u001b[1;33m,\u001b[0m \u001b[0mUnion\u001b[0m\u001b[1;33m[\u001b[0m\u001b[0mfloat\u001b[0m\u001b[1;33m,\u001b[0m \u001b[0mint\u001b[0m\u001b[1;33m]\u001b[0m\u001b[1;33m)\u001b[0m\u001b[1;33m:\u001b[0m\u001b[1;33m\u001b[0m\u001b[1;33m\u001b[0m\u001b[0m\n\u001b[0m\u001b[0;32m    184\u001b[0m         \u001b[0mgammafunc\u001b[0m \u001b[1;33m=\u001b[0m \u001b[1;32mlambda\u001b[0m\u001b[1;33m:\u001b[0m \u001b[0mgamma\u001b[0m\u001b[1;33m\u001b[0m\u001b[1;33m\u001b[0m\u001b[0m\n\u001b[0;32m    185\u001b[0m     \u001b[1;32melse\u001b[0m\u001b[1;33m:\u001b[0m\u001b[1;33m\u001b[0m\u001b[1;33m\u001b[0m\u001b[0m\n",
      "\u001b[1;32md:\\anaconda_neel\\lib\\typing.py\u001b[0m in \u001b[0;36m__instancecheck__\u001b[1;34m(self, obj)\u001b[0m\n\u001b[0;32m    767\u001b[0m \u001b[1;33m\u001b[0m\u001b[0m\n\u001b[0;32m    768\u001b[0m     \u001b[1;32mdef\u001b[0m \u001b[0m__instancecheck__\u001b[0m\u001b[1;33m(\u001b[0m\u001b[0mself\u001b[0m\u001b[1;33m,\u001b[0m \u001b[0mobj\u001b[0m\u001b[1;33m)\u001b[0m\u001b[1;33m:\u001b[0m\u001b[1;33m\u001b[0m\u001b[1;33m\u001b[0m\u001b[0m\n\u001b[1;32m--> 769\u001b[1;33m         \u001b[1;32mreturn\u001b[0m \u001b[0mself\u001b[0m\u001b[1;33m.\u001b[0m\u001b[0m__subclasscheck__\u001b[0m\u001b[1;33m(\u001b[0m\u001b[0mtype\u001b[0m\u001b[1;33m(\u001b[0m\u001b[0mobj\u001b[0m\u001b[1;33m)\u001b[0m\u001b[1;33m)\u001b[0m\u001b[1;33m\u001b[0m\u001b[1;33m\u001b[0m\u001b[0m\n\u001b[0m\u001b[0;32m    770\u001b[0m \u001b[1;33m\u001b[0m\u001b[0m\n\u001b[0;32m    771\u001b[0m     \u001b[1;32mdef\u001b[0m \u001b[0m__subclasscheck__\u001b[0m\u001b[1;33m(\u001b[0m\u001b[0mself\u001b[0m\u001b[1;33m,\u001b[0m \u001b[0mcls\u001b[0m\u001b[1;33m)\u001b[0m\u001b[1;33m:\u001b[0m\u001b[1;33m\u001b[0m\u001b[1;33m\u001b[0m\u001b[0m\n",
      "\u001b[1;32md:\\anaconda_neel\\lib\\typing.py\u001b[0m in \u001b[0;36m__subclasscheck__\u001b[1;34m(self, cls)\u001b[0m\n\u001b[0;32m    775\u001b[0m             \u001b[1;32mif\u001b[0m \u001b[0mcls\u001b[0m\u001b[1;33m.\u001b[0m\u001b[0m_special\u001b[0m\u001b[1;33m:\u001b[0m\u001b[1;33m\u001b[0m\u001b[1;33m\u001b[0m\u001b[0m\n\u001b[0;32m    776\u001b[0m                 \u001b[1;32mreturn\u001b[0m \u001b[0missubclass\u001b[0m\u001b[1;33m(\u001b[0m\u001b[0mcls\u001b[0m\u001b[1;33m.\u001b[0m\u001b[0m__origin__\u001b[0m\u001b[1;33m,\u001b[0m \u001b[0mself\u001b[0m\u001b[1;33m.\u001b[0m\u001b[0m__origin__\u001b[0m\u001b[1;33m)\u001b[0m\u001b[1;33m\u001b[0m\u001b[1;33m\u001b[0m\u001b[0m\n\u001b[1;32m--> 777\u001b[1;33m         raise TypeError(\"Subscripted generics cannot be used with\"\n\u001b[0m\u001b[0;32m    778\u001b[0m                         \" class and instance checks\")\n\u001b[0;32m    779\u001b[0m \u001b[1;33m\u001b[0m\u001b[0m\n",
      "\u001b[1;31mTypeError\u001b[0m: Subscripted generics cannot be used with class and instance checks"
     ]
    }
   ],
   "source": [
    "bas_std=[]\n",
    "for i in range(0, num_chains):  \n",
    "    mcmc_std = quantum_enhanced_mcmc(\n",
    "                                        n_hops=steps,\n",
    "                                        model=model,\n",
    "                                        mixer=coherent_mixer_only_bars,\n",
    "                                        gamma = 0.5,#(0.9,0.45), # to standardise the problem\n",
    "                                        initial_state=initial_state,\n",
    "                                        temperature=1/beta, \n",
    "                                        verbose=True\n",
    "                                    )\n",
    "    bas_std.append(mcmc_std)\n",
    "\n",
    "### save the list\n",
    "# save_files_at = results_folder_location + \"\\\\BAS_new_code_final_plots_wt1_75_bars_info_symm_25_gamma_std.pkl\"\n",
    "# with open(save_files_at, 'wb') as f:\n",
    "#     pickle.dump(bas_std, f)"
   ]
  },
  {
   "cell_type": "code",
   "execution_count": null,
   "metadata": {},
   "outputs": [],
   "source": [
    "num_chains=10\n",
    "steps =10000 # 30000\n",
    "gamma_range=[(0.9,0.95), (0.4,0.6)]\n",
    "\n",
    "initial_state=\"111000111\"\n",
    "\n",
    "my_mixer = [[['custom', [[0, 1, 2], [3, 4, 5], [6, 7, 8]]],### bars\n",
    "                                            ['random', 1]] ### for random proposal\n",
    "                                            ,\n",
    "                                            [0.30,0.70]### proposal probabilities\n",
    "                                            ]\n",
    "\n",
    "\n",
    "bas_std_2=[]\n",
    "for i in range(0, num_chains):  \n",
    "    mcmc_std2 = quantum_enhanced_mcmc_2(n_hops=steps,\n",
    "                                    model=model,\n",
    "                                    initial_state=initial_state,\n",
    "                                    mixer=my_mixer,\n",
    "                                    gamma_range=gamma_range,\n",
    "                                    verbose=True)\n",
    "    bas_std_2.append(mcmc_std2)\n",
    "\n",
    "### save the list\n",
    "with open('BAS_final_plots_wt1_70_bars_symm_30_gamma_std.pkl', 'wb') as f:\n",
    "    pickle.dump(bas_std_2, f)"
   ]
  },
  {
   "cell_type": "code",
   "execution_count": null,
   "metadata": {},
   "outputs": [],
   "source": [
    "num_chains=10\n",
    "steps =10000 # 30000\n",
    "gamma_range=[(0.9,0.95), (0.4,0.6)]\n",
    "\n",
    "initial_state=\"111000111\"\n",
    "\n",
    "my_mixer = [[['custom', [[0, 1, 2], [3, 4, 5], [6, 7, 8]]],### bars\n",
    "                                            ['random', 1]] ### for random proposal\n",
    "                                            ,\n",
    "                                            [0.40,0.60]### proposal probabilities\n",
    "                                            ]\n",
    "\n",
    "\n",
    "bas_std_2=[]\n",
    "for i in range(0, num_chains):  \n",
    "    print(f\"chain number: {i+1}\")\n",
    "    mcmc_std2 = quantum_enhanced_mcmc_2(n_hops=steps,\n",
    "                                    model=model,\n",
    "                                    initial_state=initial_state,\n",
    "                                    mixer=my_mixer,\n",
    "                                    gamma_range=gamma_range,\n",
    "                                    verbose=True)\n",
    "    bas_std_2.append(mcmc_std2)\n",
    "\n",
    "### save the list\n",
    "with open('BAS_final_plots_wt1_60_bars_symm_40_gamma_std.pkl', 'wb') as f:\n",
    "    pickle.dump(bas_std_2, f)"
   ]
  },
  {
   "cell_type": "code",
   "execution_count": null,
   "metadata": {},
   "outputs": [],
   "source": []
  }
 ],
 "metadata": {
  "kernelspec": {
   "display_name": "base",
   "language": "python",
   "name": "python3"
  },
  "language_info": {
   "codemirror_mode": {
    "name": "ipython",
    "version": 3
   },
   "file_extension": ".py",
   "mimetype": "text/x-python",
   "name": "python",
   "nbconvert_exporter": "python",
   "pygments_lexer": "ipython3",
   "version": "3.8.8"
  }
 },
 "nbformat": 4,
 "nbformat_minor": 2
}
